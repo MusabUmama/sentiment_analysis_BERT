{
 "cells": [
  {
   "cell_type": "code",
   "execution_count": null,
   "metadata": {},
   "outputs": [],
   "source": [
    "from sklearn.model_selection import train_test_split\n",
    "from sklearn.metrics import accuracy_score ,precision_score , recall_score , f1_score\n",
    "\n",
    "import pandas as pd\n",
    "from transformers import AutoTokenizer, AutoModelForSequenceClassification \n",
    "from transformers import pipeline"
   ]
  },
  {
   "cell_type": "code",
   "execution_count": null,
   "metadata": {},
   "outputs": [],
   "source": [
    "import pandas as pd\n",
    "from transformers import AutoTokenizer, AutoModelForSequenceClassification, pipeline\n",
    "\n",
    "# Load the CSV file\n",
    "csv_file_path = \"reviews_data.csv\"\n",
    "# Batch processing parameters\n",
    "batch_size = 32\n",
    "df = pd.read_csv(csv_file_path).head(12* batch_size)\n",
    "\n",
    "# Load the tokenizer and model\n",
    "model_name = \"Camelia7v/bert-sentiment-analysis-model-40k-samples\"\n",
    "tokenizer = AutoTokenizer.from_pretrained(model_name)\n",
    "model = AutoModelForSequenceClassification.from_pretrained(model_name)\n",
    "\n",
    "# Create a sentiment analysis pipeline\n",
    "sentiment_pipeline = pipeline(\"sentiment-analysis\", model=model, tokenizer=tokenizer)\n",
    "\n",
    "# Lists to store actual and predicted sentiments\n",
    "actual_sentiments = []\n",
    "predicted_sentiments = []\n",
    "\n",
    " # Adjust the batch size based on your system's memory capacity\n",
    "\n",
    "# Process the data in batches\n",
    "for i in range(0, len(df), batch_size):\n",
    "    batch_df = df.iloc[i:i+batch_size]\n",
    "\n",
    "    # Extract texts from the batch\n",
    "    batch_texts = batch_df['processed Reviews'].tolist()\n",
    "\n",
    "    # Encode the batch of texts with truncation and padding\n",
    "    batch_encoding = tokenizer.batch_encode_plus(\n",
    "        batch_texts,\n",
    "        max_length=512,  # adjust the max length as needed\n",
    "        padding='max_length',\n",
    "        truncation=True,\n",
    "        return_tensors='pt'  # return PyTorch tensors\n",
    "    )\n",
    "\n",
    "    # Get the actual sentiments from the dataset\n",
    "    batch_actual_sentiments = batch_df['sentiment'].tolist()\n",
    "\n",
    "    # Perform sentiment analysis on the batch\n",
    "    batch_results = sentiment_pipeline(batch_texts)\n",
    "\n",
    "    # Get the predicted sentiments from the pipeline\n",
    "    batch_predicted_sentiments = [result['label'] for result in batch_results]\n",
    "    predicted_numeric_sentiments = [int(label.split('_')[1]) for label in batch_predicted_sentiments]\n",
    "\n",
    "    actual_sentiments.extend(batch_actual_sentiments)\n",
    "    predicted_sentiments.extend(predicted_numeric_sentiments)\n",
    "\n"
   ]
  },
  {
   "cell_type": "code",
   "execution_count": null,
   "metadata": {},
   "outputs": [],
   "source": [
    "accuracy = accuracy_score(actual_sentiments,predicted_sentiments)\n",
    "\n",
    "precision = precision_score(actual_sentiments, predicted_sentiments, average='weighted')\n",
    "recall = recall_score(actual_sentiments, predicted_sentiments, average='weighted')\n",
    "f1 = f1_score(actual_sentiments, predicted_sentiments, average='weighted')\n",
    "print(f\"accuracy: {precision:.4f}\")\n",
    "\n",
    "print(f\"Precision: {precision:.4f}\")\n",
    "print(f\"Recall: {recall:.4f}\")\n",
    "print(f\"F1 Score: {f1:.4f}\")"
   ]
  },
  {
   "cell_type": "code",
   "execution_count": null,
   "metadata": {},
   "outputs": [],
   "source": [
    "# Calculate F1 score for each class separately\n",
    "precision_class_0 = f1_score(actual_sentiments, predicted_sentiments, labels=[0], average='weighted')\n",
    "precision_class_1 = f1_score(actual_sentiments, predicted_sentiments, labels=[1], average='weighted')\n",
    "\n",
    "print(f\"F1 Score for Class 0: {f1_class_0:.4f}\")\n",
    "print(f\"F1 Score for Class 1: {f1_class_1:.4f}\")"
   ]
  },
  {
   "cell_type": "code",
   "execution_count": null,
   "metadata": {},
   "outputs": [],
   "source": [
    "f1_class_0 =precision_score(actual_sentiments, predicted_sentiments, labels=[0], average='weighted')\n",
    "f1_class_1 = precision_score(actual_sentiments, predicted_sentiments, labels=[1], average='weighted')\n",
    "\n",
    "print(f\"F1 Score for Class 0: {f1_class_0:.4f}\")\n",
    "print(f\"F1 Score for Class 1: {f1_class_1:.4f}\")"
   ]
  },
  {
   "cell_type": "code",
   "execution_count": null,
   "metadata": {},
   "outputs": [],
   "source": [
    "import matplotlib.pyplot as plt\n",
    "import seaborn as sns\n",
    "from sklearn.metrics import confusion_matrix\n",
    "from sklearn.metrics import classification_report"
   ]
  },
  {
   "cell_type": "code",
   "execution_count": null,
   "metadata": {},
   "outputs": [],
   "source": [
    "# Visualize confusion matrix\n",
    "cm = confusion_matrix(actual_sentiments, predicted_sentiments)\n",
    "plt.figure(figsize=(8, 6))\n",
    "sns.heatmap(cm, annot=True, fmt=\"d\", cmap=\"Blues\", xticklabels=['Class 0', 'Class 1'], yticklabels=['Class 0', 'Class 1'])\n",
    "plt.title('Confusion Matrix')\n",
    "plt.xlabel('Predicted')\n",
    "plt.ylabel('Actual')\n",
    "plt.show()"
   ]
  },
  {
   "cell_type": "code",
   "execution_count": null,
   "metadata": {},
   "outputs": [],
   "source": [
    "# Visualize overall metrics\n",
    "metrics_names = ['Accuracy', 'Precision', 'Recall', 'F1 Score']\n",
    "metrics_values = [accuracy, precision, recall, f1]\n",
    "\n",
    "plt.figure(figsize=(10, 6))\n",
    "sns.barplot(x=metrics_values, y=metrics_names, palette=\"viridis\")\n",
    "plt.title('Overall Metrics')\n",
    "plt.xlabel('Score')\n",
    "plt.show()"
   ]
  }
 ],
 "metadata": {
  "kernelspec": {
   "display_name": "Python 3",
   "language": "python",
   "name": "python3"
  },
  "language_info": {
   "codemirror_mode": {
    "name": "ipython",
    "version": 3
   },
   "file_extension": ".py",
   "mimetype": "text/x-python",
   "name": "python",
   "nbconvert_exporter": "python",
   "pygments_lexer": "ipython3",
   "version": "3.11.0"
  }
 },
 "nbformat": 4,
 "nbformat_minor": 2
}
